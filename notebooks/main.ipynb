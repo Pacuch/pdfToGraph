{
 "cells": [
  {
   "cell_type": "code",
   "execution_count": 14,
   "id": "a12740dd-5f10-41cc-b2e6-0987cdb5ecdd",
   "metadata": {},
   "outputs": [],
   "source": [
    "from mysql_db import MySQLDatabase\n",
    "from dotenv import load_dotenv\n",
    "import os"
   ]
  },
  {
   "cell_type": "code",
   "execution_count": 33,
   "id": "51910273-706d-45e0-aa27-776cb5b4fb5f",
   "metadata": {},
   "outputs": [
    {
     "name": "stdout",
     "output_type": "stream",
     "text": [
      "[INFO] Connection pool 'mypool' created with size 5\n"
     ]
    }
   ],
   "source": [
    "load_dotenv()\n",
    "\n",
    "password = os.getenv(\"MYSQL_PASSWORD\")\n",
    "\n",
    "mysqldb = MySQLDatabase(password=password)"
   ]
  },
  {
   "cell_type": "code",
   "execution_count": null,
   "id": "e98c985e-339f-4727-a304-6868bc24efbb",
   "metadata": {},
   "outputs": [],
   "source": []
  }
 ],
 "metadata": {
  "kernelspec": {
   "display_name": "Python (pdfToGraph)",
   "language": "python",
   "name": "pdftograph_.venv"
  },
  "language_info": {
   "codemirror_mode": {
    "name": "ipython",
    "version": 3
   },
   "file_extension": ".py",
   "mimetype": "text/x-python",
   "name": "python",
   "nbconvert_exporter": "python",
   "pygments_lexer": "ipython3",
   "version": "3.10.0"
  }
 },
 "nbformat": 4,
 "nbformat_minor": 5
}
